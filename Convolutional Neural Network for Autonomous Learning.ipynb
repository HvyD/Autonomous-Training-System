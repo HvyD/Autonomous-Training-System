{
 "cells": [
  {
   "cell_type": "markdown",
   "metadata": {},
   "source": [
    "\n",
    "# Convolutional Neural Network for Autonomous Learning\n",
    "Takes images from Cams and Lidar and trains..\n",
    "\n"
   ]
  },
  {
   "cell_type": "code",
   "execution_count": 1,
   "metadata": {},
   "outputs": [
    {
     "name": "stderr",
     "output_type": "stream",
     "text": [
      "/home/hvyd/anaconda3/lib/python3.5/site-packages/h5py/__init__.py:36: FutureWarning: Conversion of the second argument of issubdtype from `float` to `np.floating` is deprecated. In future, it will be treated as `np.float64 == np.dtype(float).type`.\n",
      "  from ._conv import register_converters as _register_converters\n"
     ]
    }
   ],
   "source": [
    "import tensorflow as tf\n",
    "import numpy as np\n",
    "import re\n"
   ]
  },
  {
   "cell_type": "code",
   "execution_count": 2,
   "metadata": {},
   "outputs": [],
   "source": [
    "input_h = 224\n",
    "input_w = 224\n",
    "input_ch = 3\n",
    "n_output = 8\n",
    "logs_path = \"/Image_training_files\""
   ]
  },
  {
   "cell_type": "code",
   "execution_count": 3,
   "metadata": {},
   "outputs": [],
   "source": [
    "def get_input_queue(csv_filename, num_epochs=None):\n",
    "\n",
    "    train_images = []\n",
    "    train_labels = []\n",
    "\n",
    "    for line in open(csv_filename,'r'):\n",
    "        cols = re.split(',|\\n',line)\n",
    "        train_images.append(cols[0])\n",
    "        train_labels.append(int(cols[2]))\n",
    "\n",
    "    input_queue = tf.train.slice_input_producer([train_images,train_labels],num_epochs = num_epochs, shuffle= True)\n",
    "\n",
    "    return input_queue"
   ]
  },
  {
   "cell_type": "code",
   "execution_count": 4,
   "metadata": {},
   "outputs": [],
   "source": [
    "def read_data(input_queue):\n",
    "    image_file = input_queue[0]\n",
    "    label = input_queue[1]\n",
    "\n",
    "    image = tf.image.decode_jpeg(tf.read_file(image_file),channels=3)\n",
    "\n",
    "    return image,label,image_file"
   ]
  },
  {
   "cell_type": "code",
   "execution_count": 5,
   "metadata": {},
   "outputs": [],
   "source": [
    "def read_data_batch(csv_filename,batch_size):\n",
    "    input_queue = get_input_queue(csv_filename)\n",
    "    image,label,filename = read_data(input_queue)\n",
    "    image = tf.reshape(image,[224, 224, 3])\n",
    "\n",
    "    batch_image, batch_label, batch_file = tf.train.batch([image,label,filename], batch_size= batch_size)\n",
    "\n",
    "    batch_file = tf.reshape(batch_file,[batch_size,1])\n",
    "    batch_label_on_hot = tf.one_hot(tf.to_int64(batch_label), n_output, on_value=1.0, off_value=0.0)\n",
    "\n",
    "    return batch_image,batch_label_on_hot,batch_file\n",
    "\n",
    "\n",
    "with tf.name_scope('weights'):\n",
    "    weights = {\n",
    "        'conv1' : tf.Variable(tf.random_normal([11,11,3,96], stddev=0.1)),\n",
    "        'conv2' : tf.Variable(tf.random_normal([5,5,96,256], stddev=0.1)),\n",
    "        'conv3' : tf.Variable(tf.random_normal([3,3,256,384], stddev=0.1)),\n",
    "        'conv4' : tf.Variable(tf.random_normal([3,3,384,192], stddev=0.1)),\n",
    "        'conv5' : tf.Variable(tf.random_normal([3,3,192,256], stddev=0.1)),\n",
    "        'fc1' : tf.Variable(tf.random_normal([9216,4096], stddev=0.1)),\n",
    "        'fc2' : tf.Variable(tf.random_normal([4096,1000], stddev=0.1)),\n",
    "        'output' : tf.Variable(tf.random_normal([1000,n_output],stddev=0.1))\n",
    "    }\n",
    "\n",
    "with tf.name_scope('biases'):\n",
    "    biases = {\n",
    "        'conv1' : tf.Variable(tf.random_normal([96], stddev=0.1)),\n",
    "        'conv2' : tf.Variable(tf.random_normal([256], stddev=0.1)),\n",
    "        'conv3' : tf.Variable(tf.random_normal([384], stddev=0.1)),\n",
    "        'conv4' : tf.Variable(tf.random_normal([192], stddev=0.1)),\n",
    "        'conv5' : tf.Variable(tf.random_normal([256], stddev=0.1)),\n",
    "        'fc1' : tf.Variable(tf.random_normal([4096], stddev=0.1)),\n",
    "        'fc2' : tf.Variable(tf.random_normal([1000], stddev=0.1)),\n",
    "        'output' : tf.Variable(tf.random_normal([n_output],stddev=0.1))\n",
    "    }\n",
    "\n",
    "with tf.name_scope('input'):\n",
    "    x = tf.placeholder(tf.float32, [None, input_h, input_w, input_ch])\n",
    "    y = tf.placeholder(tf.float32, [None, n_output])\n",
    "    y_ = tf.placeholder(tf.float32, [None, n_output])"
   ]
  },
  {
   "cell_type": "code",
   "execution_count": 6,
   "metadata": {},
   "outputs": [],
   "source": [
    "def net(x, weights, biases):\n",
    "    with tf.name_scope('conv1'):\n",
    "        conv1 = tf.nn.conv2d(x, weights['conv1'], strides=[1,4,4,1],padding='SAME')\n",
    "        conv1 = tf.nn.relu(tf.add(conv1,biases['conv1']))\n",
    "        conv1 = tf.nn.local_response_normalization(conv1, depth_radius=5,bias=2,alpha=10^-4,beta=0.75)\n",
    "        conv1 = tf.nn.max_pool(conv1, ksize=[1,3,3,1], strides=[1,2,2,1],padding='SAME')\n",
    "\n",
    "    with tf.name_scope('conv2'):\n",
    "        conv2 = tf.nn.conv2d(conv1, weights['conv2'], strides=[1,1,1,1], padding='VALID')\n",
    "        conv2 = tf.nn.relu(tf.add(conv2,biases['conv2']))\n",
    "        conv2 = tf.nn.local_response_normalization(conv2, depth_radius=5, bias=2, alpha=10 ^ -4, beta=0.75)\n",
    "        conv2 = tf.nn.max_pool(conv2, ksize=[1, 3, 3, 1], strides=[1, 2, 2, 1], padding='SAME')\n",
    "\n",
    "    with tf.name_scope('conv3'):\n",
    "        conv3 = tf.nn.conv2d(conv2, weights['conv3'], strides=[1,1,1,1], padding='SAME')\n",
    "        conv3 = tf.nn.relu(tf.add(conv3,biases['conv3']))\n",
    "\n",
    "    with tf.name_scope('conv4'):\n",
    "        conv4 = tf.nn.conv2d(conv3, weights['conv4'], strides=[1,1,1,1], padding='SAME')\n",
    "        conv4 = tf.nn.relu(tf.add(conv4,biases['conv4']))\n",
    "\n",
    "    with tf.name_scope('conv5'):\n",
    "        conv5 = tf.nn.conv2d(conv4, weights['conv5'], strides=[1,1,1,1], padding='SAME')\n",
    "        conv5 = tf.nn.relu(tf.add(conv2,biases['conv5']))\n",
    "        conv5 = tf.nn.max_pool(conv2, ksize=[1, 3, 3, 1], strides=[1, 2, 2, 1], padding='SAME')\n",
    "        conv5 = tf.reshape(conv5, [-1,9216])\n",
    "\n",
    "    with tf.name_scope('fc1'):\n",
    "        fc1 = tf.matmul(conv5, weights['fc1'],biases['fc1'])\n",
    "        fc1 = tf.nn.relu(fc1)\n",
    "        fc1 = tf.nn.dropout(fc1,keep_prob=0.75)\n",
    "\n",
    "    with tf.name_scope('fc2'):\n",
    "        fc2 = tf.matmul(fc1, weights['fc2'],biases['fc2'])\n",
    "        fc2 = tf.nn.relu(fc2)\n",
    "        fc2 = tf.nn.dropout(fc2,keep_prob=0.75)\n",
    "\n",
    "        output = tf.matmul(fc2,weights['output'], biases['output'])\n",
    "\n",
    "        return output"
   ]
  },
  {
   "cell_type": "code",
   "execution_count": null,
   "metadata": {},
   "outputs": [],
   "source": [
    "pred = net(x,weights,biases)\n",
    "\n",
    "with tf.name_scope('loss'):\n",
    "    loss = tf.nn.softmax_cross_entropy_with_logits(labels=y, logits=pred)\n",
    "    loss = tf.reduce_mean(loss)\n",
    "\n",
    "tf.summary.scalar(\"loss\",loss)"
   ]
  },
  {
   "cell_type": "code",
   "execution_count": null,
   "metadata": {},
   "outputs": [],
   "source": [
    "global_step = tf.Variable(0,trainable=False)\n",
    "starter_lr = 0.01\n",
    "lr = tf.train.exponential_decay(starter_lr,global_step,10000,0.96,staircase=True)\n",
    "optimizer = tf.train.AdamOptimizer(lr).minimize(loss,global_step=global_step)\n"
   ]
  },
  {
   "cell_type": "code",
   "execution_count": null,
   "metadata": {},
   "outputs": [],
   "source": [
    "n_batch = 64\n",
    "n_iter = 1000000\n",
    "n_prt = 240\n",
    "\n",
    "train_batch, train_label, train_file = read_data_batch( pass , batch_size= n_batch)\n",
    "test_batch, test_label, test_file = read_data_batch( pass , batch_size= n_batch)\n",
    "\n",
    "saver = tf.train.Saver()\n",
    "\n",
    "with tf.Session() as sess:\n",
    "    init_op = tf.global_variables_initializer()\n",
    "    coord = tf.train.Coordinator()\n",
    "    threads = tf.train.start_queue_runners(sess=sess, coord=coord)\n",
    "\n",
    "    sess.run(init_op)\n",
    "    writer = tf.summary.FileWriter(logs_path, graph=tf.get_default_graph())\n",
    "    merged_summary_op = tf.summary.merge_all()\n",
    "\n",
    "    for epoch in range(n_iter):\n",
    "        train_images_, train_labels_ = sess.run([train_batch, train_label])\n",
    "        test_images_, test_labels_ = sess.run([test_batch, test_label])\n",
    "        sess.run(optimizer, feed_dict={x: train_images_, y: train_labels_})\n",
    "\n",
    "        if epoch % n_prt == 0:\n",
    "            c = sess.run(loss, feed_dict={x : train_images_, y: train_labels_})\n",
    "            print(\"Iter : {}\".format(epoch/n_prt), \", Cost : {}\".format(c))\n"
   ]
  },
  {
   "cell_type": "code",
   "execution_count": null,
   "metadata": {},
   "outputs": [],
   "source": []
  },
  {
   "cell_type": "code",
   "execution_count": null,
   "metadata": {},
   "outputs": [],
   "source": []
  },
  {
   "cell_type": "code",
   "execution_count": null,
   "metadata": {},
   "outputs": [],
   "source": []
  },
  {
   "cell_type": "code",
   "execution_count": null,
   "metadata": {},
   "outputs": [],
   "source": []
  }
 ],
 "metadata": {
  "kernelspec": {
   "display_name": "Python 3",
   "language": "python",
   "name": "python3"
  },
  "language_info": {
   "codemirror_mode": {
    "name": "ipython",
    "version": 3
   },
   "file_extension": ".py",
   "mimetype": "text/x-python",
   "name": "python",
   "nbconvert_exporter": "python",
   "pygments_lexer": "ipython3",
   "version": "3.5.5"
  }
 },
 "nbformat": 4,
 "nbformat_minor": 2
}
